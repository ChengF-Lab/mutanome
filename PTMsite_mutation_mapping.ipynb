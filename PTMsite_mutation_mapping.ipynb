{
 "cells": [
  {
   "cell_type": "code",
   "execution_count": 1,
   "metadata": {},
   "outputs": [],
   "source": [
    "import re\n",
    "import sys\n",
    "import os\n",
    "import math\n",
    "import csv\n",
    "from Bio import SwissProt"
   ]
  },
  {
   "cell_type": "code",
   "execution_count": 2,
   "metadata": {},
   "outputs": [],
   "source": [
    "def is_PTMsite(UniProt_ID,mutation_site):\n",
    "    indicator=None\n",
    "    if UniProt_ID in UniProt_PTMsites:\n",
    "        site = int(re.findall(r'\\d+',mutation_site)[0])\n",
    "        dis = [abs(int(re.findall(r'\\d+',elem)[0])-site) for elem in UniProt_PTMsites[UniProt_ID]]\n",
    "        min_dis = min(dis)\n",
    "        nearest_site = [elem for elem in UniProt_PTMsites[UniProt_ID] if abs(int(re.findall(r'\\d+',elem)[0])-site) == min_dis]\n",
    "        indicator = [min_dis,nearest_site]\n",
    "    return indicator\n"
   ]
  },
  {
   "cell_type": "markdown",
   "metadata": {},
   "source": [
    "# Acetylation"
   ]
  },
  {
   "cell_type": "code",
   "execution_count": 3,
   "metadata": {},
   "outputs": [],
   "source": [
    "UniProt_PTMsites={}\n",
    "with open('Dataset/PTM_dataset/Acetylation merge.csv') as fp:\n",
    "    PTMreader = csv.reader(fp)\n",
    "    PTMreader.next()\n",
    "    for temp in PTMreader:\n",
    "        UniProt_ID = temp[0]\n",
    "        if UniProt_ID not in UniProt_PTMsites:\n",
    "            UniProt_PTMsites[UniProt_ID]=set()\n",
    "            UniProt_PTMsites[UniProt_ID].add(temp[3])\n",
    "        else:\n",
    "            UniProt_PTMsites[UniProt_ID].add(temp[3])"
   ]
  },
  {
   "cell_type": "markdown",
   "metadata": {},
   "source": [
    "# Malonylation"
   ]
  },
  {
   "cell_type": "code",
   "execution_count": 16,
   "metadata": {},
   "outputs": [],
   "source": [
    "UniProt_PTMsites={}\n",
    "with open('Dataset/PTM_dataset/Malonylation-human-merge.csv') as fp:\n",
    "    PTMreader = csv.reader(fp)\n",
    "    PTMreader.next()\n",
    "    for temp in PTMreader:\n",
    "        UniProt_ID = temp[0]\n",
    "        if UniProt_ID not in UniProt_PTMsites:\n",
    "            UniProt_PTMsites[UniProt_ID]=set()\n",
    "            UniProt_PTMsites[UniProt_ID].add(temp[2])\n",
    "        else:\n",
    "            UniProt_PTMsites[UniProt_ID].add(temp[2])"
   ]
  },
  {
   "cell_type": "markdown",
   "metadata": {},
   "source": [
    "# Methylation"
   ]
  },
  {
   "cell_type": "code",
   "execution_count": 19,
   "metadata": {},
   "outputs": [],
   "source": [
    "UniProt_PTMsites={}\n",
    "with open('Dataset/PTM_dataset/Methylation_site_human-merge.csv') as fp:\n",
    "    PTMreader = csv.reader(fp)\n",
    "    PTMreader.next()\n",
    "    for temp in PTMreader:\n",
    "        UniProt_ID = temp[0]\n",
    "        if UniProt_ID not in UniProt_PTMsites:\n",
    "            UniProt_PTMsites[UniProt_ID]=set()\n",
    "            UniProt_PTMsites[UniProt_ID].add(temp[2])\n",
    "        else:\n",
    "            UniProt_PTMsites[UniProt_ID].add(temp[2])"
   ]
  },
  {
   "cell_type": "markdown",
   "metadata": {},
   "source": [
    "# O-linked glycosylation"
   ]
  },
  {
   "cell_type": "code",
   "execution_count": 21,
   "metadata": {},
   "outputs": [],
   "source": [
    "UniProt_PTMsites={}\n",
    "with open('Dataset/PTM_dataset/O-linked glycosylation_human-merge.csv') as fp:\n",
    "    PTMreader = csv.reader(fp)\n",
    "    PTMreader.next()\n",
    "    for temp in PTMreader:\n",
    "        UniProt_ID = temp[0]\n",
    "        if UniProt_ID not in UniProt_PTMsites:\n",
    "            UniProt_PTMsites[UniProt_ID]=set()\n",
    "            UniProt_PTMsites[UniProt_ID].add(temp[2])\n",
    "        else:\n",
    "            UniProt_PTMsites[UniProt_ID].add(temp[2])"
   ]
  },
  {
   "cell_type": "markdown",
   "metadata": {},
   "source": [
    "# Phosphorylation"
   ]
  },
  {
   "cell_type": "code",
   "execution_count": 3,
   "metadata": {},
   "outputs": [],
   "source": [
    "UniProt_PTMsites={}\n",
    "with open('Dataset/PTM_dataset/Phosphorylation_site_human-merge.csv') as fp:\n",
    "    PTMreader = csv.reader(fp)\n",
    "    next(PTMreader)\n",
    "    for temp in PTMreader:\n",
    "        UniProt_ID = temp[0]\n",
    "        if UniProt_ID not in UniProt_PTMsites:\n",
    "            UniProt_PTMsites[UniProt_ID]=set()\n",
    "            UniProt_PTMsites[UniProt_ID].add(temp[2])\n",
    "        else:\n",
    "            UniProt_PTMsites[UniProt_ID].add(temp[2])"
   ]
  },
  {
   "cell_type": "code",
   "execution_count": 6,
   "metadata": {},
   "outputs": [],
   "source": [
    "PTMsites = open('Dataset/PTMsites.txt','w+')\n",
    "for ID in UniProt_PTMsites:\n",
    "    PTMsites.write(ID + '\\t' + ','.join(list(UniProt_PTMsites[ID])) + '\\n')\n",
    "PTMsites.close()"
   ]
  },
  {
   "cell_type": "markdown",
   "metadata": {},
   "source": [
    "# Succinylation"
   ]
  },
  {
   "cell_type": "code",
   "execution_count": 26,
   "metadata": {},
   "outputs": [],
   "source": [
    "UniProt_PTMsites={}\n",
    "with open('Dataset/PTM_dataset/Succinylation-human-merge.csv') as fp:\n",
    "    PTMreader = csv.reader(fp)\n",
    "    PTMreader.next()\n",
    "    for temp in PTMreader:\n",
    "        UniProt_ID = temp[0]\n",
    "        if UniProt_ID not in UniProt_PTMsites:\n",
    "            UniProt_PTMsites[UniProt_ID]=set()\n",
    "            UniProt_PTMsites[UniProt_ID].add(temp[2])\n",
    "        else:\n",
    "            UniProt_PTMsites[UniProt_ID].add(temp[2])"
   ]
  },
  {
   "cell_type": "markdown",
   "metadata": {},
   "source": [
    "# Ubiquitination"
   ]
  },
  {
   "cell_type": "code",
   "execution_count": 28,
   "metadata": {},
   "outputs": [],
   "source": [
    "UniProt_PTMsites={}\n",
    "with open('Dataset/PTM_dataset/Ubiquitination_site_human-merge.csv') as fp:\n",
    "    PTMreader = csv.reader(fp)\n",
    "    PTMreader.next()\n",
    "    for temp in PTMreader:\n",
    "        UniProt_ID = temp[0]\n",
    "        if UniProt_ID not in UniProt_PTMsites:\n",
    "            UniProt_PTMsites[UniProt_ID]=set()\n",
    "            UniProt_PTMsites[UniProt_ID].add(temp[2])\n",
    "        else:\n",
    "            UniProt_PTMsites[UniProt_ID].add(temp[2])"
   ]
  },
  {
   "cell_type": "markdown",
   "metadata": {},
   "source": [
    "# Mutation Mapping"
   ]
  },
  {
   "cell_type": "code",
   "execution_count": 5,
   "metadata": {},
   "outputs": [],
   "source": [
    "maf_files = [f for f in os.listdir('/Users/junfeizhao/Google Drive/TCGA-Junfei/Somatic Mutation/') if f.endswith('NonSilent.maf')]\n",
    "for maf in maf_files:\n",
    "    Cancer_type = maf.split('.')[1]\n",
    "    fp = open('/Users/junfeizhao/Google Drive/TCGA-Junfei/Somatic Mutation/' + maf)\n",
    "    next(fp)\n",
    "    next(fp)\n",
    "    next(fp)\n",
    "    Header = next(fp)\n",
    "    PTMsites_mutations = set()\n",
    "    #output.write(Header)\n",
    "    for line in fp:\n",
    "        temp = line[0:-1].split(\"\\t\")\n",
    "        if temp[8]=='Missense_Mutation':\n",
    "            gene = temp[0]\n",
    "            Tumor_ID = temp[15][0:12]\n",
    "            AA = temp[36]\n",
    "            AA_pos = re.findall(r'\\d+',AA)\n",
    "            if len(AA_pos) > 0:\n",
    "                pos = AA_pos[0]\n",
    "                Protein_ID = temp[68]\n",
    "                SIFT_score = temp[72]\n",
    "                PolyPhen_score = temp[73]\n",
    "                dis = is_PTMsite(Protein_ID,AA[2:-1])\n",
    "                if dis is not None and dis[0] <= 7:\n",
    "                    PTMsites_mutations.add('\\t'.join([Tumor_ID,gene,Protein_ID,AA,','.join(dis[1]),str(dis[0]),SIFT_score,PolyPhen_score]))\n",
    "    fp.close()\n",
    "    output = open('Phosphorylation_mutations/Mutation_mapping/' + Cancer_type + '_Phosphorylation_mutations.txt',\"w+\")\n",
    "    output.write('\\t'.join([\"SampleID\",\"Gene\",\"UniProt\",\"AAchange\",\"Nearest_site\",\"Distance\",\"SIFT_score\",\"PolyPhen_score\"]) + '\\n')\n",
    "    output.write('\\n'.join(list(PTMsites_mutations)))\n",
    "    output.close()"
   ]
  },
  {
   "cell_type": "code",
   "execution_count": 11,
   "metadata": {},
   "outputs": [
    {
     "data": {
      "text/plain": [
       "['Q8TBF4', 'Q5MIZ7', 'Q8TBF2', 'Q8TBF8', 'Q5H9L2']"
      ]
     },
     "execution_count": 11,
     "metadata": {},
     "output_type": "execute_result"
    }
   ],
   "source": [
    "UniProt_PTMsites.keys()[0:5]"
   ]
  },
  {
   "cell_type": "code",
   "execution_count": 12,
   "metadata": {},
   "outputs": [
    {
     "data": {
      "text/plain": [
       "{'K186'}"
      ]
     },
     "execution_count": 12,
     "metadata": {},
     "output_type": "execute_result"
    }
   ],
   "source": [
    "UniProt_PTMsites['Q8TBF4']"
   ]
  },
  {
   "cell_type": "code",
   "execution_count": null,
   "metadata": {},
   "outputs": [],
   "source": []
  }
 ],
 "metadata": {
  "kernelspec": {
   "display_name": "Python 3",
   "language": "python",
   "name": "python3"
  },
  "language_info": {
   "codemirror_mode": {
    "name": "ipython",
    "version": 3
   },
   "file_extension": ".py",
   "mimetype": "text/x-python",
   "name": "python",
   "nbconvert_exporter": "python",
   "pygments_lexer": "ipython3",
   "version": "3.7.3"
  }
 },
 "nbformat": 4,
 "nbformat_minor": 4
}
